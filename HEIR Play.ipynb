{
 "cells": [
  {
   "cell_type": "code",
   "execution_count": 1,
   "id": "d19c6307",
   "metadata": {},
   "outputs": [
    {
     "name": "stdout",
     "output_type": "stream",
     "text": [
      "Loading heir-opt nightly binary\n",
      "Using existing local heir-opt\n"
     ]
    }
   ],
   "source": [
    "%load_ext heir_play"
   ]
  },
  {
   "cell_type": "code",
   "execution_count": 2,
   "id": "9c9792b2",
   "metadata": {},
   "outputs": [
    {
     "name": "stdout",
     "output_type": "stream",
     "text": [
      "Running heir-opt...\n",
      "module {\n",
      "  func.func @secret_condition_with_non_secret_int(%arg0: i16, %arg1: !secret.secret<i1>) -> !secret.secret<i16> {\n",
      "    %0 = arith.addi %arg0, %arg0 : i16\n",
      "    %1 = secret.generic ins(%arg1 : !secret.secret<i1>) {\n",
      "    ^bb0(%arg2: i1):\n",
      "      %2 = arith.select %arg2, %0, %arg0 : i16\n",
      "      secret.yield %2 : i16\n",
      "    } -> !secret.secret<i16>\n",
      "    return %1 : !secret.secret<i16>\n",
      "  }\n",
      "}\n",
      "\n",
      "None\n"
     ]
    }
   ],
   "source": [
    "%%heir_opt --convert-if-to-select --canonicalize\n",
    "\n",
    "func.func @secret_condition_with_non_secret_int(%inp: i16, %cond: !secret.secret<i1>) -> !secret.secret<i16> {\n",
    "  %0 = secret.generic ins(%inp, %cond : i16, !secret.secret<i1>) {\n",
    "  ^bb0(%copy_inp: i16, %secret_cond: i1):\n",
    "    %1 = scf.if %secret_cond -> (i16) {\n",
    "      %2 = arith.addi %copy_inp, %copy_inp : i16\n",
    "      scf.yield %2 : i16\n",
    "    } else {\n",
    "      scf.yield %copy_inp : i16\n",
    "    }\n",
    "    secret.yield %1 : i16\n",
    "  } -> !secret.secret<i16>\n",
    "  return %0 : !secret.secret<i16>\n",
    "}"
   ]
  },
  {
   "cell_type": "code",
   "execution_count": null,
   "id": "e435faac",
   "metadata": {},
   "outputs": [],
   "source": []
  }
 ],
 "metadata": {
  "kernelspec": {
   "display_name": "Python 3 (ipykernel)",
   "language": "python",
   "name": "python3"
  },
  "language_info": {
   "codemirror_mode": {
    "name": "ipython",
    "version": 3
   },
   "file_extension": ".py",
   "mimetype": "text/x-python",
   "name": "python",
   "nbconvert_exporter": "python",
   "pygments_lexer": "ipython3",
   "version": "3.10.12"
  }
 },
 "nbformat": 4,
 "nbformat_minor": 5
}
