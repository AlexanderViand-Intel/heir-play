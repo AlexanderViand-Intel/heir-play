{
 "cells": [
  {
   "cell_type": "code",
   "execution_count": null,
   "id": "d19c6307",
   "metadata": {},
   "outputs": [],
   "source": [
    "%load_ext heir_play"
   ]
  },
  {
   "cell_type": "code",
   "execution_count": null,
   "id": "9c9792b2",
   "metadata": {},
   "outputs": [],
   "source": [
    "%%heir_opt --convert-if-to-select\n",
    "\n",
    "func.func @secret_condition_with_non_secret_int(%inp: i16, %cond: !secret.secret<i1>) -> !secret.secret<i16> {\n",
    "  %0 = secret.generic ins(%inp, %cond : i16, !secret.secret<i1>) {\n",
    "  ^bb0(%copy_inp: i16, %secret_cond: i1):\n",
    "    %1 = scf.if %secret_cond -> (i16) {\n",
    "      %2 = arith.addi %copy_inp, %copy_inp : i16\n",
    "      scf.yield %2 : i16\n",
    "    } else {\n",
    "      scf.yield %copy_inp : i16\n",
    "    }\n",
    "    secret.yield %1 : i16\n",
    "  } -> !secret.secret<i16>\n",
    "  return %0 : !secret.secret<i16>\n",
    "}"
   ]
  },
  {
   "cell_type": "code",
   "execution_count": null,
   "id": "358aa76c",
   "metadata": {},
   "outputs": [],
   "source": []
  }
 ],
 "metadata": {
  "kernelspec": {
   "display_name": "Python 3 (ipykernel)",
   "language": "python",
   "name": "python3"
  },
  "language_info": {
   "codemirror_mode": {
    "name": "ipython",
    "version": 3
   },
   "file_extension": ".py",
   "mimetype": "text/x-python",
   "name": "python",
   "nbconvert_exporter": "python",
   "pygments_lexer": "ipython3",
   "version": "3.10.12"
  }
 },
 "nbformat": 4,
 "nbformat_minor": 5
}
